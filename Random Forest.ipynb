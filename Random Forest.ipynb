{
 "cells": [
  {
   "cell_type": "markdown",
   "metadata": {},
   "source": [
    "# Predicting COVID-19 in Europe with Random Forest"
   ]
  },
  {
   "cell_type": "code",
   "execution_count": 1,
   "metadata": {},
   "outputs": [
    {
     "name": "stderr",
     "output_type": "stream",
     "text": [
      "\n",
      "Bad key savefig.frameon in file /home/alpakkan/.local/lib/python3.6/site-packages/matplotlib/mpl-data/stylelib/_classic_test.mplstyle, line 421 ('savefig.frameon : True')\n",
      "You probably need to get an updated matplotlibrc file from\n",
      "https://github.com/matplotlib/matplotlib/blob/v3.3.2/matplotlibrc.template\n",
      "or from the matplotlib source distribution\n",
      "\n",
      "Bad key verbose.level in file /home/alpakkan/.local/lib/python3.6/site-packages/matplotlib/mpl-data/stylelib/_classic_test.mplstyle, line 472 ('verbose.level  : silent      # one of silent, helpful, debug, debug-annoying')\n",
      "You probably need to get an updated matplotlibrc file from\n",
      "https://github.com/matplotlib/matplotlib/blob/v3.3.2/matplotlibrc.template\n",
      "or from the matplotlib source distribution\n",
      "\n",
      "Bad key verbose.fileo in file /home/alpakkan/.local/lib/python3.6/site-packages/matplotlib/mpl-data/stylelib/_classic_test.mplstyle, line 473 ('verbose.fileo  : sys.stdout  # a log filename, sys.stdout or sys.stderr')\n",
      "You probably need to get an updated matplotlibrc file from\n",
      "https://github.com/matplotlib/matplotlib/blob/v3.3.2/matplotlibrc.template\n",
      "or from the matplotlib source distribution\n",
      "In /home/alpakkan/.local/lib/python3.6/site-packages/matplotlib/mpl-data/stylelib/_classic_test.mplstyle: \n",
      "The text.latex.preview rcparam was deprecated in Matplotlib 3.3 and will be removed two minor releases later.\n",
      "In /home/alpakkan/.local/lib/python3.6/site-packages/matplotlib/mpl-data/stylelib/_classic_test.mplstyle: \n",
      "The mathtext.fallback_to_cm rcparam was deprecated in Matplotlib 3.3 and will be removed two minor releases later.\n",
      "In /home/alpakkan/.local/lib/python3.6/site-packages/matplotlib/mpl-data/stylelib/_classic_test.mplstyle: Support for setting the 'mathtext.fallback_to_cm' rcParam is deprecated since 3.3 and will be removed two minor releases later; use 'mathtext.fallback : 'cm' instead.\n",
      "In /home/alpakkan/.local/lib/python3.6/site-packages/matplotlib/mpl-data/stylelib/_classic_test.mplstyle: \n",
      "The validate_bool_maybe_none function was deprecated in Matplotlib 3.3 and will be removed two minor releases later.\n",
      "In /home/alpakkan/.local/lib/python3.6/site-packages/matplotlib/mpl-data/stylelib/_classic_test.mplstyle: \n",
      "The savefig.jpeg_quality rcparam was deprecated in Matplotlib 3.3 and will be removed two minor releases later.\n",
      "In /home/alpakkan/.local/lib/python3.6/site-packages/matplotlib/mpl-data/stylelib/_classic_test.mplstyle: \n",
      "The keymap.all_axes rcparam was deprecated in Matplotlib 3.3 and will be removed two minor releases later.\n",
      "In /home/alpakkan/.local/lib/python3.6/site-packages/matplotlib/mpl-data/stylelib/_classic_test.mplstyle: \n",
      "The animation.avconv_path rcparam was deprecated in Matplotlib 3.3 and will be removed two minor releases later.\n",
      "In /home/alpakkan/.local/lib/python3.6/site-packages/matplotlib/mpl-data/stylelib/_classic_test.mplstyle: \n",
      "The animation.avconv_args rcparam was deprecated in Matplotlib 3.3 and will be removed two minor releases later.\n"
     ]
    },
    {
     "data": {
      "text/html": [
       "<div>\n",
       "<style scoped>\n",
       "    .dataframe tbody tr th:only-of-type {\n",
       "        vertical-align: middle;\n",
       "    }\n",
       "\n",
       "    .dataframe tbody tr th {\n",
       "        vertical-align: top;\n",
       "    }\n",
       "\n",
       "    .dataframe thead th {\n",
       "        text-align: right;\n",
       "    }\n",
       "</style>\n",
       "<table border=\"1\" class=\"dataframe\">\n",
       "  <thead>\n",
       "    <tr style=\"text-align: right;\">\n",
       "      <th></th>\n",
       "      <th>Unnamed: 0</th>\n",
       "      <th>iso_code</th>\n",
       "      <th>location</th>\n",
       "      <th>date</th>\n",
       "      <th>new_cases</th>\n",
       "      <th>new_cases_smoothed</th>\n",
       "      <th>population</th>\n",
       "      <th>total_tests</th>\n",
       "      <th>new_tests</th>\n",
       "      <th>new_tests_smoothed</th>\n",
       "      <th>stringency_index</th>\n",
       "      <th>latitude</th>\n",
       "      <th>longitude</th>\n",
       "    </tr>\n",
       "  </thead>\n",
       "  <tbody>\n",
       "    <tr>\n",
       "      <th>0</th>\n",
       "      <td>0</td>\n",
       "      <td>ALB</td>\n",
       "      <td>Albania</td>\n",
       "      <td>2019-12-31</td>\n",
       "      <td>0.0</td>\n",
       "      <td>0.0</td>\n",
       "      <td>2877800.0</td>\n",
       "      <td>0.0</td>\n",
       "      <td>0.0</td>\n",
       "      <td>0.0</td>\n",
       "      <td>0.0</td>\n",
       "      <td>41.0</td>\n",
       "      <td>20.0</td>\n",
       "    </tr>\n",
       "    <tr>\n",
       "      <th>1</th>\n",
       "      <td>1</td>\n",
       "      <td>ALB</td>\n",
       "      <td>Albania</td>\n",
       "      <td>2020-01-01</td>\n",
       "      <td>0.0</td>\n",
       "      <td>0.0</td>\n",
       "      <td>2877800.0</td>\n",
       "      <td>0.0</td>\n",
       "      <td>0.0</td>\n",
       "      <td>0.0</td>\n",
       "      <td>0.0</td>\n",
       "      <td>41.0</td>\n",
       "      <td>20.0</td>\n",
       "    </tr>\n",
       "    <tr>\n",
       "      <th>2</th>\n",
       "      <td>2</td>\n",
       "      <td>ALB</td>\n",
       "      <td>Albania</td>\n",
       "      <td>2020-01-02</td>\n",
       "      <td>0.0</td>\n",
       "      <td>0.0</td>\n",
       "      <td>2877800.0</td>\n",
       "      <td>0.0</td>\n",
       "      <td>0.0</td>\n",
       "      <td>0.0</td>\n",
       "      <td>0.0</td>\n",
       "      <td>41.0</td>\n",
       "      <td>20.0</td>\n",
       "    </tr>\n",
       "    <tr>\n",
       "      <th>3</th>\n",
       "      <td>3</td>\n",
       "      <td>ALB</td>\n",
       "      <td>Albania</td>\n",
       "      <td>2020-01-03</td>\n",
       "      <td>0.0</td>\n",
       "      <td>0.0</td>\n",
       "      <td>2877800.0</td>\n",
       "      <td>0.0</td>\n",
       "      <td>0.0</td>\n",
       "      <td>0.0</td>\n",
       "      <td>0.0</td>\n",
       "      <td>41.0</td>\n",
       "      <td>20.0</td>\n",
       "    </tr>\n",
       "    <tr>\n",
       "      <th>4</th>\n",
       "      <td>4</td>\n",
       "      <td>ALB</td>\n",
       "      <td>Albania</td>\n",
       "      <td>2020-01-04</td>\n",
       "      <td>0.0</td>\n",
       "      <td>0.0</td>\n",
       "      <td>2877800.0</td>\n",
       "      <td>0.0</td>\n",
       "      <td>0.0</td>\n",
       "      <td>0.0</td>\n",
       "      <td>0.0</td>\n",
       "      <td>41.0</td>\n",
       "      <td>20.0</td>\n",
       "    </tr>\n",
       "  </tbody>\n",
       "</table>\n",
       "</div>"
      ],
      "text/plain": [
       "   Unnamed: 0 iso_code location        date  new_cases  new_cases_smoothed  \\\n",
       "0           0      ALB  Albania  2019-12-31        0.0                 0.0   \n",
       "1           1      ALB  Albania  2020-01-01        0.0                 0.0   \n",
       "2           2      ALB  Albania  2020-01-02        0.0                 0.0   \n",
       "3           3      ALB  Albania  2020-01-03        0.0                 0.0   \n",
       "4           4      ALB  Albania  2020-01-04        0.0                 0.0   \n",
       "\n",
       "   population  total_tests  new_tests  new_tests_smoothed  stringency_index  \\\n",
       "0   2877800.0          0.0        0.0                 0.0               0.0   \n",
       "1   2877800.0          0.0        0.0                 0.0               0.0   \n",
       "2   2877800.0          0.0        0.0                 0.0               0.0   \n",
       "3   2877800.0          0.0        0.0                 0.0               0.0   \n",
       "4   2877800.0          0.0        0.0                 0.0               0.0   \n",
       "\n",
       "   latitude  longitude  \n",
       "0      41.0       20.0  \n",
       "1      41.0       20.0  \n",
       "2      41.0       20.0  \n",
       "3      41.0       20.0  \n",
       "4      41.0       20.0  "
      ]
     },
     "execution_count": 1,
     "metadata": {},
     "output_type": "execute_result"
    }
   ],
   "source": [
    "import pandas as pd\n",
    "import numpy as np\n",
    "import matplotlib.dates as mdates\n",
    "from datetime import datetime\n",
    "from pandas.plotting import lag_plot\n",
    "from matplotlib import pyplot as plt\n",
    "from matplotlib.dates import date2num\n",
    "%matplotlib inline\n",
    "from sklearn.model_selection import train_test_split\n",
    "from sklearn.ensemble import RandomForestRegressor\n",
    "from sklearn.linear_model import LinearRegression\n",
    "from sklearn.preprocessing import PolynomialFeatures\n",
    "from sklearn.metrics import mean_absolute_error\n",
    "import json\n",
    "plt.close(\"all\")\n",
    "\n",
    "euroData = pd.read_csv(\"data/euro_countries_filled.csv\")\n",
    "with open(\"data/iso_country_codes.json\", \"r\") as read_file:\n",
    "    countryCodes = json.load(read_file)\n",
    "\n",
    "euroData.head(5)"
   ]
  },
  {
   "cell_type": "code",
   "execution_count": 2,
   "metadata": {
    "scrolled": true
   },
   "outputs": [
    {
     "data": {
      "text/html": [
       "<div>\n",
       "<style scoped>\n",
       "    .dataframe tbody tr th:only-of-type {\n",
       "        vertical-align: middle;\n",
       "    }\n",
       "\n",
       "    .dataframe tbody tr th {\n",
       "        vertical-align: top;\n",
       "    }\n",
       "\n",
       "    .dataframe thead th {\n",
       "        text-align: right;\n",
       "    }\n",
       "</style>\n",
       "<table border=\"1\" class=\"dataframe\">\n",
       "  <thead>\n",
       "    <tr style=\"text-align: right;\">\n",
       "      <th></th>\n",
       "      <th>date</th>\n",
       "      <th>new_cases</th>\n",
       "      <th>day</th>\n",
       "      <th>month</th>\n",
       "      <th>year</th>\n",
       "      <th>weekday</th>\n",
       "    </tr>\n",
       "  </thead>\n",
       "  <tbody>\n",
       "    <tr>\n",
       "      <th>303</th>\n",
       "      <td>2020-10-29</td>\n",
       "      <td>230431.0</td>\n",
       "      <td>29</td>\n",
       "      <td>10</td>\n",
       "      <td>2020</td>\n",
       "      <td>Thursday</td>\n",
       "    </tr>\n",
       "    <tr>\n",
       "      <th>304</th>\n",
       "      <td>2020-10-30</td>\n",
       "      <td>253398.0</td>\n",
       "      <td>30</td>\n",
       "      <td>10</td>\n",
       "      <td>2020</td>\n",
       "      <td>Friday</td>\n",
       "    </tr>\n",
       "    <tr>\n",
       "      <th>305</th>\n",
       "      <td>2020-10-31</td>\n",
       "      <td>242186.0</td>\n",
       "      <td>31</td>\n",
       "      <td>10</td>\n",
       "      <td>2020</td>\n",
       "      <td>Saturday</td>\n",
       "    </tr>\n",
       "    <tr>\n",
       "      <th>306</th>\n",
       "      <td>2020-11-01</td>\n",
       "      <td>196131.0</td>\n",
       "      <td>1</td>\n",
       "      <td>11</td>\n",
       "      <td>2020</td>\n",
       "      <td>Sunday</td>\n",
       "    </tr>\n",
       "    <tr>\n",
       "      <th>307</th>\n",
       "      <td>2020-11-02</td>\n",
       "      <td>241538.0</td>\n",
       "      <td>2</td>\n",
       "      <td>11</td>\n",
       "      <td>2020</td>\n",
       "      <td>Monday</td>\n",
       "    </tr>\n",
       "    <tr>\n",
       "      <th>308</th>\n",
       "      <td>2020-11-03</td>\n",
       "      <td>231159.0</td>\n",
       "      <td>3</td>\n",
       "      <td>11</td>\n",
       "      <td>2020</td>\n",
       "      <td>Tuesday</td>\n",
       "    </tr>\n",
       "    <tr>\n",
       "      <th>309</th>\n",
       "      <td>2020-11-04</td>\n",
       "      <td>233684.0</td>\n",
       "      <td>4</td>\n",
       "      <td>11</td>\n",
       "      <td>2020</td>\n",
       "      <td>Wednesday</td>\n",
       "    </tr>\n",
       "    <tr>\n",
       "      <th>310</th>\n",
       "      <td>2020-11-05</td>\n",
       "      <td>264625.0</td>\n",
       "      <td>5</td>\n",
       "      <td>11</td>\n",
       "      <td>2020</td>\n",
       "      <td>Thursday</td>\n",
       "    </tr>\n",
       "    <tr>\n",
       "      <th>311</th>\n",
       "      <td>2020-11-06</td>\n",
       "      <td>283371.0</td>\n",
       "      <td>6</td>\n",
       "      <td>11</td>\n",
       "      <td>2020</td>\n",
       "      <td>Friday</td>\n",
       "    </tr>\n",
       "    <tr>\n",
       "      <th>312</th>\n",
       "      <td>2020-11-07</td>\n",
       "      <td>265381.0</td>\n",
       "      <td>7</td>\n",
       "      <td>11</td>\n",
       "      <td>2020</td>\n",
       "      <td>Saturday</td>\n",
       "    </tr>\n",
       "  </tbody>\n",
       "</table>\n",
       "</div>"
      ],
      "text/plain": [
       "          date  new_cases  day  month  year    weekday\n",
       "303 2020-10-29   230431.0   29     10  2020   Thursday\n",
       "304 2020-10-30   253398.0   30     10  2020     Friday\n",
       "305 2020-10-31   242186.0   31     10  2020   Saturday\n",
       "306 2020-11-01   196131.0    1     11  2020     Sunday\n",
       "307 2020-11-02   241538.0    2     11  2020     Monday\n",
       "308 2020-11-03   231159.0    3     11  2020    Tuesday\n",
       "309 2020-11-04   233684.0    4     11  2020  Wednesday\n",
       "310 2020-11-05   264625.0    5     11  2020   Thursday\n",
       "311 2020-11-06   283371.0    6     11  2020     Friday\n",
       "312 2020-11-07   265381.0    7     11  2020   Saturday"
      ]
     },
     "execution_count": 2,
     "metadata": {},
     "output_type": "execute_result"
    }
   ],
   "source": [
    "df = euroData.groupby(\"date\")[\"new_cases\"].sum().reset_index()\n",
    "\n",
    "start_date, end_date = '2020-03-01', '2020-11-07'\n",
    "start_index = list(np.where(df['date'] == start_date)[0])[0]\n",
    "end_index = list(np.where(df['date'] == end_date)[0])[0]\n",
    "df = df[start_index:end_index + 1]\n",
    "\n",
    "df.date = pd.to_datetime(df.date)\n",
    "\n",
    "df['day'] = df['date'].dt.day\n",
    "df['month'] = df['date'].dt.month\n",
    "df['year'] = df['date'].dt.year\n",
    "df['weekday'] = df['date'].dt.strftime('%A')\n",
    "\n",
    "df.tail(10)"
   ]
  },
  {
   "cell_type": "markdown",
   "metadata": {},
   "source": [
    "## Exploratory Data Analysis"
   ]
  },
  {
   "cell_type": "code",
   "execution_count": 3,
   "metadata": {},
   "outputs": [
    {
     "name": "stdout",
     "output_type": "stream",
     "text": [
      "The number of (rows, columns): (252, 6)\n"
     ]
    },
    {
     "data": {
      "text/plain": [
       "Text(0.5, 1.0, 'New Cases')"
      ]
     },
     "execution_count": 3,
     "metadata": {},
     "output_type": "execute_result"
    },
    {
     "data": {
      "image/png": "[encoded data removed]",
      "text/plain": [
       "<Figure size 432x288 with 1 Axes>"
      ]
     },
     "metadata": {},
     "output_type": "display_data"
    }
   ],
   "source": [
    "print('The number of (rows, columns):', df.shape)\n",
    "\n",
    "dates = df['date']\n",
    "\n",
    "# Set pyplot style\n",
    "plt.style.use('fivethirtyeight')\n",
    "\n",
    "# Set up the plotting layout\n",
    "f1, ax = plt.subplots()\n",
    "f1.autofmt_xdate(rotation = 45)\n",
    "\n",
    "# Plot new cases\n",
    "ax.plot(dates, df['new_cases'])\n",
    "ax.set_xlabel(''); ax.set_ylabel('Cases'); ax.set_title('New Cases')"
   ]
  },
  {
   "cell_type": "code",
   "execution_count": 4,
   "metadata": {},
   "outputs": [
    {
     "data": {
      "image/png": "[encoded data removed]",
      "text/plain": [
       "<Figure size 432x288 with 1 Axes>"
      ]
     },
     "metadata": {},
     "output_type": "display_data"
    }
   ],
   "source": [
    "# Make lag plot\n",
    "f2, ax = plt.subplots()\n",
    "lag_plot(df['new_cases'], ax=ax)\n",
    "ax.set_title('New Cases');"
   ]
  },
  {
   "cell_type": "markdown",
   "metadata": {},
   "source": [
    "## Pre-processing: Detrend the Time Series"
   ]
  },
  {
   "cell_type": "markdown",
   "metadata": {},
   "source": [
    "### Try Transforming the Data"
   ]
  },
  {
   "cell_type": "code",
   "execution_count": 5,
   "metadata": {},
   "outputs": [
    {
     "data": {
      "text/plain": [
       "Text(0.5, 1.0, 'Cbrt')"
      ]
     },
     "execution_count": 5,
     "metadata": {},
     "output_type": "execute_result"
    },
    {
     "data": {
      "image/png": "[encoded data removed]",
      "text/plain": [
       "<Figure size 1080x360 with 3 Axes>"
      ]
     },
     "metadata": {},
     "output_type": "display_data"
    }
   ],
   "source": [
    "# Calculate the log\n",
    "df['new_cases_log'] = np.log(df['new_cases'])\n",
    "\n",
    "# Calculate the square root\n",
    "df['new_cases_sqrt'] = np.sqrt(df['new_cases'])\n",
    "\n",
    "# Calculate the cubed root\n",
    "df['new_cases_cbrt'] = np.cbrt(df['new_cases'])\n",
    "\n",
    "f3, (ax1, ax2, ax3) = plt.subplots(1, 3, figsize=(15, 5))\n",
    "f3.tight_layout()\n",
    "f3.autofmt_xdate(rotation = 45)\n",
    "ax1.plot(dates, df['new_cases_log'])\n",
    "ax1.set_xlabel(''); ax1.set_ylabel('Cases'); ax1.set_title('Log')\n",
    "ax2.plot(dates, df['new_cases_sqrt'])\n",
    "ax2.set_xlabel(''); ax2.set_ylabel('Cases'); ax2.set_title('Sqrt')\n",
    "ax3.plot(dates, df['new_cases_cbrt'])\n",
    "ax3.set_xlabel(''); ax3.set_ylabel('Cases'); ax3.set_title('Cbrt')"
   ]
  },
  {
   "cell_type": "markdown",
   "metadata": {},
   "source": [
    "### Try Rolling Means"
   ]
  },
  {
   "cell_type": "code",
   "execution_count": 6,
   "metadata": {},
   "outputs": [
    {
     "data": {
      "image/png": "[encoded data removed]",
      "text/plain": [
       "<Figure size 432x288 with 1 Axes>"
      ]
     },
     "metadata": {},
     "output_type": "display_data"
    }
   ],
   "source": [
    "f4, ax = plt.subplots()\n",
    "ax.plot(dates, df['new_cases'].rolling(window = 7).mean())\n",
    "ax.plot(dates, df['new_cases'])\n",
    "ax.set_xlabel(''); ax.set_ylabel('Cases'); ax1.set_title('Rolling Mean')\n",
    "f4.autofmt_xdate(rotation = 45)"
   ]
  },
  {
   "cell_type": "code",
   "execution_count": 7,
   "metadata": {},
   "outputs": [
    {
     "data": {
      "image/png": "[encoded data removed]",
      "text/plain": [
       "<Figure size 432x288 with 1 Axes>"
      ]
     },
     "metadata": {},
     "output_type": "display_data"
    }
   ],
   "source": [
    "df['new_cases_rolling'] = df['new_cases'] - df['new_cases'].rolling(window = 7).mean()\n",
    "\n",
    "f5, ax = plt.subplots()\n",
    "ax.plot(dates, df['new_cases_rolling'])\n",
    "ax.set_xlabel(''); ax.set_ylabel('Cases'); ax1.set_title('New Cases with the Rolling Mean Subtracted')\n",
    "f5.autofmt_xdate(rotation = 45)"
   ]
  },
  {
   "cell_type": "markdown",
   "metadata": {},
   "source": [
    "### Try Differencing"
   ]
  },
  {
   "cell_type": "code",
   "execution_count": 8,
   "metadata": {},
   "outputs": [
    {
     "data": {
      "image/png": "[encoded data removed]",
      "text/plain": [
       "<Figure size 432x288 with 1 Axes>"
      ]
     },
     "metadata": {},
     "output_type": "display_data"
    }
   ],
   "source": [
    "df['new_cases_diff'] = df['new_cases'].diff(periods=7)\n",
    "\n",
    "f6, ax = plt.subplots()\n",
    "ax.plot(dates, df['new_cases_diff'])\n",
    "ax.set_xlabel(''); ax.set_ylabel('Cases'); ax.set_title('Differenced New Cases')\n",
    "f6.autofmt_xdate(rotation = 45)"
   ]
  },
  {
   "cell_type": "markdown",
   "metadata": {},
   "source": [
    "### Try Fitting Trend with a Polynomial Curve"
   ]
  },
  {
   "cell_type": "code",
   "execution_count": 9,
   "metadata": {},
   "outputs": [
    {
     "data": {
      "text/plain": [
       "<matplotlib.legend.Legend at 0x7fd063c44278>"
      ]
     },
     "execution_count": 9,
     "metadata": {},
     "output_type": "execute_result"
    },
    {
     "data": {
      "image/png": "[encoded data removed]",
      "text/plain": [
       "<Figure size 432x288 with 1 Axes>"
      ]
     },
     "metadata": {},
     "output_type": "display_data"
    }
   ],
   "source": [
    "x = df.index\n",
    "x = np.reshape(x, (len(x), 1))\n",
    "y = df.new_cases\n",
    "\n",
    "pf = PolynomialFeatures(degree=4)\n",
    "xp = pf.fit_transform(x)\n",
    "model = LinearRegression()\n",
    "model.fit(xp, y)\n",
    "trend = model.predict(xp)\n",
    "\n",
    "plt.plot(x, y)\n",
    "plt.plot(x, trend)\n",
    "plt.legend(['data', 'polynomial trend'])"
   ]
  },
  {
   "cell_type": "markdown",
   "metadata": {
    "pycharm": {
     "name": "#%% md\n"
    }
   },
   "source": [
    "## Feature Engineering"
   ]
  },
  {
   "cell_type": "code",
   "execution_count": 10,
   "metadata": {},
   "outputs": [
    {
     "data": {
      "text/html": [
       "<div>\n",
       "<style scoped>\n",
       "    .dataframe tbody tr th:only-of-type {\n",
       "        vertical-align: middle;\n",
       "    }\n",
       "\n",
       "    .dataframe tbody tr th {\n",
       "        vertical-align: top;\n",
       "    }\n",
       "\n",
       "    .dataframe thead th {\n",
       "        text-align: right;\n",
       "    }\n",
       "</style>\n",
       "<table border=\"1\" class=\"dataframe\">\n",
       "  <thead>\n",
       "    <tr style=\"text-align: right;\">\n",
       "      <th></th>\n",
       "      <th>new_cases_diff</th>\n",
       "      <th>new_cases_diff_lag7</th>\n",
       "      <th>new_cases_diff_lag14</th>\n",
       "      <th>new_cases_diff_lag21</th>\n",
       "      <th>day</th>\n",
       "      <th>month</th>\n",
       "      <th>year</th>\n",
       "      <th>new_cases</th>\n",
       "      <th>weekday_Friday</th>\n",
       "      <th>weekday_Monday</th>\n",
       "      <th>weekday_Saturday</th>\n",
       "      <th>weekday_Sunday</th>\n",
       "      <th>weekday_Thursday</th>\n",
       "      <th>weekday_Tuesday</th>\n",
       "      <th>weekday_Wednesday</th>\n",
       "    </tr>\n",
       "  </thead>\n",
       "  <tbody>\n",
       "    <tr>\n",
       "      <th>89</th>\n",
       "      <td>7504.0</td>\n",
       "      <td>12047.0</td>\n",
       "      <td>6578.0</td>\n",
       "      <td>1728.0</td>\n",
       "      <td>29</td>\n",
       "      <td>3</td>\n",
       "      <td>2020</td>\n",
       "      <td>28270.0</td>\n",
       "      <td>0</td>\n",
       "      <td>0</td>\n",
       "      <td>0</td>\n",
       "      <td>1</td>\n",
       "      <td>0</td>\n",
       "      <td>0</td>\n",
       "      <td>0</td>\n",
       "    </tr>\n",
       "    <tr>\n",
       "      <th>90</th>\n",
       "      <td>5843.0</td>\n",
       "      <td>10469.0</td>\n",
       "      <td>6048.0</td>\n",
       "      <td>2037.0</td>\n",
       "      <td>30</td>\n",
       "      <td>3</td>\n",
       "      <td>2020</td>\n",
       "      <td>25089.0</td>\n",
       "      <td>0</td>\n",
       "      <td>1</td>\n",
       "      <td>0</td>\n",
       "      <td>0</td>\n",
       "      <td>0</td>\n",
       "      <td>0</td>\n",
       "      <td>0</td>\n",
       "    </tr>\n",
       "    <tr>\n",
       "      <th>91</th>\n",
       "      <td>1967.0</td>\n",
       "      <td>15975.0</td>\n",
       "      <td>6819.0</td>\n",
       "      <td>3034.0</td>\n",
       "      <td>31</td>\n",
       "      <td>3</td>\n",
       "      <td>2020</td>\n",
       "      <td>28327.0</td>\n",
       "      <td>0</td>\n",
       "      <td>0</td>\n",
       "      <td>0</td>\n",
       "      <td>0</td>\n",
       "      <td>0</td>\n",
       "      <td>1</td>\n",
       "      <td>0</td>\n",
       "    </tr>\n",
       "    <tr>\n",
       "      <th>92</th>\n",
       "      <td>8445.0</td>\n",
       "      <td>12223.0</td>\n",
       "      <td>8626.0</td>\n",
       "      <td>2520.0</td>\n",
       "      <td>1</td>\n",
       "      <td>4</td>\n",
       "      <td>2020</td>\n",
       "      <td>32521.0</td>\n",
       "      <td>0</td>\n",
       "      <td>0</td>\n",
       "      <td>0</td>\n",
       "      <td>0</td>\n",
       "      <td>0</td>\n",
       "      <td>0</td>\n",
       "      <td>1</td>\n",
       "    </tr>\n",
       "    <tr>\n",
       "      <th>93</th>\n",
       "      <td>3019.0</td>\n",
       "      <td>15109.0</td>\n",
       "      <td>7670.0</td>\n",
       "      <td>4624.0</td>\n",
       "      <td>2</td>\n",
       "      <td>4</td>\n",
       "      <td>2020</td>\n",
       "      <td>31384.0</td>\n",
       "      <td>0</td>\n",
       "      <td>0</td>\n",
       "      <td>0</td>\n",
       "      <td>0</td>\n",
       "      <td>1</td>\n",
       "      <td>0</td>\n",
       "      <td>0</td>\n",
       "    </tr>\n",
       "    <tr>\n",
       "      <th>94</th>\n",
       "      <td>-3432.0</td>\n",
       "      <td>11138.0</td>\n",
       "      <td>14231.0</td>\n",
       "      <td>5541.0</td>\n",
       "      <td>3</td>\n",
       "      <td>4</td>\n",
       "      <td>2020</td>\n",
       "      <td>28986.0</td>\n",
       "      <td>1</td>\n",
       "      <td>0</td>\n",
       "      <td>0</td>\n",
       "      <td>0</td>\n",
       "      <td>0</td>\n",
       "      <td>0</td>\n",
       "      <td>0</td>\n",
       "    </tr>\n",
       "    <tr>\n",
       "      <th>95</th>\n",
       "      <td>-302.0</td>\n",
       "      <td>11289.0</td>\n",
       "      <td>13747.0</td>\n",
       "      <td>5362.0</td>\n",
       "      <td>4</td>\n",
       "      <td>4</td>\n",
       "      <td>2020</td>\n",
       "      <td>32036.0</td>\n",
       "      <td>0</td>\n",
       "      <td>0</td>\n",
       "      <td>1</td>\n",
       "      <td>0</td>\n",
       "      <td>0</td>\n",
       "      <td>0</td>\n",
       "      <td>0</td>\n",
       "    </tr>\n",
       "    <tr>\n",
       "      <th>96</th>\n",
       "      <td>-369.0</td>\n",
       "      <td>7504.0</td>\n",
       "      <td>12047.0</td>\n",
       "      <td>6578.0</td>\n",
       "      <td>5</td>\n",
       "      <td>4</td>\n",
       "      <td>2020</td>\n",
       "      <td>27901.0</td>\n",
       "      <td>0</td>\n",
       "      <td>0</td>\n",
       "      <td>0</td>\n",
       "      <td>1</td>\n",
       "      <td>0</td>\n",
       "      <td>0</td>\n",
       "      <td>0</td>\n",
       "    </tr>\n",
       "    <tr>\n",
       "      <th>97</th>\n",
       "      <td>-4527.0</td>\n",
       "      <td>5843.0</td>\n",
       "      <td>10469.0</td>\n",
       "      <td>6048.0</td>\n",
       "      <td>6</td>\n",
       "      <td>4</td>\n",
       "      <td>2020</td>\n",
       "      <td>20562.0</td>\n",
       "      <td>0</td>\n",
       "      <td>1</td>\n",
       "      <td>0</td>\n",
       "      <td>0</td>\n",
       "      <td>0</td>\n",
       "      <td>0</td>\n",
       "      <td>0</td>\n",
       "    </tr>\n",
       "    <tr>\n",
       "      <th>98</th>\n",
       "      <td>-3947.0</td>\n",
       "      <td>1967.0</td>\n",
       "      <td>15975.0</td>\n",
       "      <td>6819.0</td>\n",
       "      <td>7</td>\n",
       "      <td>4</td>\n",
       "      <td>2020</td>\n",
       "      <td>24380.0</td>\n",
       "      <td>0</td>\n",
       "      <td>0</td>\n",
       "      <td>0</td>\n",
       "      <td>0</td>\n",
       "      <td>0</td>\n",
       "      <td>1</td>\n",
       "      <td>0</td>\n",
       "    </tr>\n",
       "  </tbody>\n",
       "</table>\n",
       "</div>"
      ],
      "text/plain": [
       "    new_cases_diff  new_cases_diff_lag7  new_cases_diff_lag14  \\\n",
       "89          7504.0              12047.0                6578.0   \n",
       "90          5843.0              10469.0                6048.0   \n",
       "91          1967.0              15975.0                6819.0   \n",
       "92          8445.0              12223.0                8626.0   \n",
       "93          3019.0              15109.0                7670.0   \n",
       "94         -3432.0              11138.0               14231.0   \n",
       "95          -302.0              11289.0               13747.0   \n",
       "96          -369.0               7504.0               12047.0   \n",
       "97         -4527.0               5843.0               10469.0   \n",
       "98         -3947.0               1967.0               15975.0   \n",
       "\n",
       "    new_cases_diff_lag21  day  month  year  new_cases  weekday_Friday  \\\n",
       "89                1728.0   29      3  2020    28270.0               0   \n",
       "90                2037.0   30      3  2020    25089.0               0   \n",
       "91                3034.0   31      3  2020    28327.0               0   \n",
       "92                2520.0    1      4  2020    32521.0               0   \n",
       "93                4624.0    2      4  2020    31384.0               0   \n",
       "94                5541.0    3      4  2020    28986.0               1   \n",
       "95                5362.0    4      4  2020    32036.0               0   \n",
       "96                6578.0    5      4  2020    27901.0               0   \n",
       "97                6048.0    6      4  2020    20562.0               0   \n",
       "98                6819.0    7      4  2020    24380.0               0   \n",
       "\n",
       "    weekday_Monday  weekday_Saturday  weekday_Sunday  weekday_Thursday  \\\n",
       "89               0                 0               1                 0   \n",
       "90               1                 0               0                 0   \n",
       "91               0                 0               0                 0   \n",
       "92               0                 0               0                 0   \n",
       "93               0                 0               0                 1   \n",
       "94               0                 0               0                 0   \n",
       "95               0                 1               0                 0   \n",
       "96               0                 0               1                 0   \n",
       "97               1                 0               0                 0   \n",
       "98               0                 0               0                 0   \n",
       "\n",
       "    weekday_Tuesday  weekday_Wednesday  \n",
       "89                0                  0  \n",
       "90                0                  0  \n",
       "91                1                  0  \n",
       "92                0                  1  \n",
       "93                0                  0  \n",
       "94                0                  0  \n",
       "95                0                  0  \n",
       "96                0                  0  \n",
       "97                0                  0  \n",
       "98                1                  0  "
      ]
     },
     "execution_count": 10,
     "metadata": {},
     "output_type": "execute_result"
    }
   ],
   "source": [
    "# Remove detrending attempts that did not work\n",
    "features = df.drop(['new_cases_log', 'new_cases_sqrt', 'new_cases_cbrt', 'new_cases_rolling'], axis = 1)\n",
    "\n",
    "# Remove date column\n",
    "features = features.drop('date', axis = 1)\n",
    "\n",
    "# Create lags\n",
    "lag = 3\n",
    "\n",
    "def build_lagged_features(s,lag=3,dropna=True):\n",
    "    if type(s) is pd.DataFrame:\n",
    "        new_dict={}\n",
    "        for col_name in s:\n",
    "            new_dict[col_name]=s[col_name]\n",
    "            # create lagged Series\n",
    "            for l in range(1,lag+1):\n",
    "                new_dict['%s_lag%d' %(col_name,l*7)]=s[col_name].shift(l*7)\n",
    "        res=pd.DataFrame(new_dict,index=s.index)\n",
    "    if dropna:\n",
    "        return res.dropna()\n",
    "    else:\n",
    "        return res \n",
    "\n",
    "lagged_features = build_lagged_features(features.drop(['day', 'month', 'year', 'weekday', 'new_cases'], axis = 1), lag=lag)\n",
    "lagged_features['day'] = features['day'][lag:]\n",
    "lagged_features['month'] = features['month'][lag:]\n",
    "lagged_features['year'] = features['year'][lag:]\n",
    "lagged_features['weekday'] = features['weekday'][lag:]\n",
    "lagged_features['new_cases'] = features['new_cases'][lag:]\n",
    "\n",
    "features = lagged_features\n",
    "\n",
    "# One-hot encode weekdays\n",
    "features = pd.get_dummies(features)\n",
    "\n",
    "features.head(10)"
   ]
  },
  {
   "cell_type": "markdown",
   "metadata": {},
   "source": [
    "# Train random forest model with 1000 decision trees\n",
    "rf = RandomForestRegressor(n_estimators = 1000, random_state = 49)\n",
    "rf.fit(train_features, train_labels)"
   ]
  },
  {
   "cell_type": "code",
   "execution_count": 11,
   "metadata": {},
   "outputs": [],
   "source": [
    "# Splitting into labels and features\n",
    "labels = features['new_cases']\n",
    "labels_diff = features['new_cases_diff']\n",
    "features = features.drop(['new_cases', 'new_cases_diff'], axis = 1)\n",
    "feature_list = list(features.columns)"
   ]
  },
  {
   "cell_type": "code",
   "execution_count": 12,
   "metadata": {},
   "outputs": [
    {
     "data": {
      "text/html": [
       "<div>\n",
       "<style scoped>\n",
       "    .dataframe tbody tr th:only-of-type {\n",
       "        vertical-align: middle;\n",
       "    }\n",
       "\n",
       "    .dataframe tbody tr th {\n",
       "        vertical-align: top;\n",
       "    }\n",
       "\n",
       "    .dataframe thead th {\n",
       "        text-align: right;\n",
       "    }\n",
       "</style>\n",
       "<table border=\"1\" class=\"dataframe\">\n",
       "  <thead>\n",
       "    <tr style=\"text-align: right;\">\n",
       "      <th></th>\n",
       "      <th>new_cases_diff_lag7</th>\n",
       "      <th>new_cases_diff_lag14</th>\n",
       "      <th>new_cases_diff_lag21</th>\n",
       "      <th>day</th>\n",
       "      <th>month</th>\n",
       "      <th>year</th>\n",
       "      <th>weekday_Friday</th>\n",
       "      <th>weekday_Monday</th>\n",
       "      <th>weekday_Saturday</th>\n",
       "      <th>weekday_Sunday</th>\n",
       "      <th>weekday_Thursday</th>\n",
       "      <th>weekday_Tuesday</th>\n",
       "      <th>weekday_Wednesday</th>\n",
       "    </tr>\n",
       "  </thead>\n",
       "  <tbody>\n",
       "    <tr>\n",
       "      <th>306</th>\n",
       "      <td>53714.0</td>\n",
       "      <td>28535.0</td>\n",
       "      <td>38269.0</td>\n",
       "      <td>1</td>\n",
       "      <td>11</td>\n",
       "      <td>2020</td>\n",
       "      <td>0</td>\n",
       "      <td>0</td>\n",
       "      <td>0</td>\n",
       "      <td>1</td>\n",
       "      <td>0</td>\n",
       "      <td>0</td>\n",
       "      <td>0</td>\n",
       "    </tr>\n",
       "    <tr>\n",
       "      <th>307</th>\n",
       "      <td>65054.0</td>\n",
       "      <td>53404.0</td>\n",
       "      <td>31215.0</td>\n",
       "      <td>2</td>\n",
       "      <td>11</td>\n",
       "      <td>2020</td>\n",
       "      <td>0</td>\n",
       "      <td>1</td>\n",
       "      <td>0</td>\n",
       "      <td>0</td>\n",
       "      <td>0</td>\n",
       "      <td>0</td>\n",
       "      <td>0</td>\n",
       "    </tr>\n",
       "    <tr>\n",
       "      <th>308</th>\n",
       "      <td>61069.0</td>\n",
       "      <td>43986.0</td>\n",
       "      <td>15705.0</td>\n",
       "      <td>3</td>\n",
       "      <td>11</td>\n",
       "      <td>2020</td>\n",
       "      <td>0</td>\n",
       "      <td>0</td>\n",
       "      <td>0</td>\n",
       "      <td>0</td>\n",
       "      <td>0</td>\n",
       "      <td>1</td>\n",
       "      <td>0</td>\n",
       "    </tr>\n",
       "    <tr>\n",
       "      <th>309</th>\n",
       "      <td>71585.0</td>\n",
       "      <td>39700.0</td>\n",
       "      <td>33274.0</td>\n",
       "      <td>4</td>\n",
       "      <td>11</td>\n",
       "      <td>2020</td>\n",
       "      <td>0</td>\n",
       "      <td>0</td>\n",
       "      <td>0</td>\n",
       "      <td>0</td>\n",
       "      <td>0</td>\n",
       "      <td>0</td>\n",
       "      <td>1</td>\n",
       "    </tr>\n",
       "    <tr>\n",
       "      <th>310</th>\n",
       "      <td>51370.0</td>\n",
       "      <td>53477.0</td>\n",
       "      <td>38642.0</td>\n",
       "      <td>5</td>\n",
       "      <td>11</td>\n",
       "      <td>2020</td>\n",
       "      <td>0</td>\n",
       "      <td>0</td>\n",
       "      <td>0</td>\n",
       "      <td>0</td>\n",
       "      <td>1</td>\n",
       "      <td>0</td>\n",
       "      <td>0</td>\n",
       "    </tr>\n",
       "    <tr>\n",
       "      <th>311</th>\n",
       "      <td>56462.0</td>\n",
       "      <td>57951.0</td>\n",
       "      <td>43693.0</td>\n",
       "      <td>6</td>\n",
       "      <td>11</td>\n",
       "      <td>2020</td>\n",
       "      <td>1</td>\n",
       "      <td>0</td>\n",
       "      <td>0</td>\n",
       "      <td>0</td>\n",
       "      <td>0</td>\n",
       "      <td>0</td>\n",
       "      <td>0</td>\n",
       "    </tr>\n",
       "    <tr>\n",
       "      <th>312</th>\n",
       "      <td>47877.0</td>\n",
       "      <td>66240.0</td>\n",
       "      <td>42621.0</td>\n",
       "      <td>7</td>\n",
       "      <td>11</td>\n",
       "      <td>2020</td>\n",
       "      <td>0</td>\n",
       "      <td>0</td>\n",
       "      <td>1</td>\n",
       "      <td>0</td>\n",
       "      <td>0</td>\n",
       "      <td>0</td>\n",
       "      <td>0</td>\n",
       "    </tr>\n",
       "  </tbody>\n",
       "</table>\n",
       "</div>"
      ],
      "text/plain": [
       "     new_cases_diff_lag7  new_cases_diff_lag14  new_cases_diff_lag21  day  \\\n",
       "306              53714.0               28535.0               38269.0    1   \n",
       "307              65054.0               53404.0               31215.0    2   \n",
       "308              61069.0               43986.0               15705.0    3   \n",
       "309              71585.0               39700.0               33274.0    4   \n",
       "310              51370.0               53477.0               38642.0    5   \n",
       "311              56462.0               57951.0               43693.0    6   \n",
       "312              47877.0               66240.0               42621.0    7   \n",
       "\n",
       "     month  year  weekday_Friday  weekday_Monday  weekday_Saturday  \\\n",
       "306     11  2020               0               0                 0   \n",
       "307     11  2020               0               1                 0   \n",
       "308     11  2020               0               0                 0   \n",
       "309     11  2020               0               0                 0   \n",
       "310     11  2020               0               0                 0   \n",
       "311     11  2020               1               0                 0   \n",
       "312     11  2020               0               0                 1   \n",
       "\n",
       "     weekday_Sunday  weekday_Thursday  weekday_Tuesday  weekday_Wednesday  \n",
       "306               1                 0                0                  0  \n",
       "307               0                 0                0                  0  \n",
       "308               0                 0                1                  0  \n",
       "309               0                 0                0                  1  \n",
       "310               0                 1                0                  0  \n",
       "311               0                 0                0                  0  \n",
       "312               0                 0                0                  0  "
      ]
     },
     "execution_count": 12,
     "metadata": {},
     "output_type": "execute_result"
    }
   ],
   "source": [
    "# Splitting into training and testing sets\n",
    "#train_features, test_features, train_labels, test_labels = train_test_split(features, labels, test_size = 0.25, random_state = 49)\n",
    "# Using first 7 days of November as testing set\n",
    "train_features = features[:-7]\n",
    "test_features = features[-7:]\n",
    "train_labels = labels_diff[:-7]\n",
    "test_labels = labels[-7:]\n",
    "test_features"
   ]
  },
  {
   "cell_type": "code",
   "execution_count": 13,
   "metadata": {},
   "outputs": [],
   "source": [
    "# Convert to numpy array\n",
    "train_features = np.array(train_features)\n",
    "train_labels = np.array(train_labels)\n",
    "test_features = np.array(test_features)\n",
    "test_labels = np.array(test_labels)"
   ]
  },
  {
   "cell_type": "code",
   "execution_count": 14,
   "metadata": {
    "pycharm": {
     "name": "#%%\n"
    }
   },
   "outputs": [
    {
     "data": {
      "text/plain": [
       "RandomForestRegressor(n_estimators=1000, random_state=49)"
      ]
     },
     "execution_count": 14,
     "metadata": {},
     "output_type": "execute_result"
    }
   ],
   "source": [
    "# Train random forest model with 1000 decision trees\n",
    "rf = RandomForestRegressor(n_estimators = 1000, random_state = 49)\n",
    "rf.fit(train_features, train_labels)"
   ]
  },
  {
   "cell_type": "code",
   "execution_count": 15,
   "metadata": {},
   "outputs": [],
   "source": [
    "diff_predictions = rf.predict(test_features)\n",
    "\n",
    "from pmdarima.utils import diff_inv\n",
    "predictions = diff_inv(np.append(np.array(labels.iloc[-14:-7]), diff_predictions), lag=7, differences=1)\n",
    "predictions = predictions[-7:]"
   ]
  },
  {
   "cell_type": "markdown",
   "metadata": {
    "pycharm": {
     "name": "#%% md\n"
    }
   },
   "source": [
    "## Evaluation"
   ]
  },
  {
   "cell_type": "code",
   "execution_count": 16,
   "metadata": {
    "pycharm": {
     "name": "#%%\n"
    }
   },
   "outputs": [
    {
     "name": "stdout",
     "output_type": "stream",
     "text": [
      "MAE: 10961.97 new cases\n"
     ]
    }
   ],
   "source": [
    "# Get Mean Absolute Error (MAE)\n",
    "errors = abs(predictions - test_labels)\n",
    "print('MAE:', round(np.mean(errors), 2), 'new cases')"
   ]
  },
  {
   "cell_type": "code",
   "execution_count": 17,
   "metadata": {
    "pycharm": {
     "name": "#%%\n"
    }
   },
   "outputs": [
    {
     "name": "stdout",
     "output_type": "stream",
     "text": [
      "Variable: new_cases_diff_lag7  Importance: 0.62\n",
      "Variable: month                Importance: 0.25\n",
      "Variable: day                  Importance: 0.08\n",
      "Variable: new_cases_diff_lag14 Importance: 0.03\n",
      "Variable: new_cases_diff_lag21 Importance: 0.01\n",
      "Variable: year                 Importance: 0.0\n",
      "Variable: weekday_Friday       Importance: 0.0\n",
      "Variable: weekday_Monday       Importance: 0.0\n",
      "Variable: weekday_Saturday     Importance: 0.0\n",
      "Variable: weekday_Sunday       Importance: 0.0\n",
      "Variable: weekday_Thursday     Importance: 0.0\n",
      "Variable: weekday_Tuesday      Importance: 0.0\n",
      "Variable: weekday_Wednesday    Importance: 0.0\n"
     ]
    }
   ],
   "source": [
    "# Get feature importances\n",
    "importances = list(rf.feature_importances_)\n",
    "feature_importances = [(feature, round(importance, 2)) for feature, importance in zip(feature_list, importances)]\n",
    "# Sort feature importances descendingly by importance\n",
    "feature_importances = sorted(feature_importances, key = lambda x: x[1], reverse = True)\n",
    "\n",
    "[print('Variable: {:20} Importance: {}'.format(*pair)) for pair in feature_importances];"
   ]
  },
  {
   "cell_type": "markdown",
   "metadata": {},
   "source": [
    "## Export results"
   ]
  },
  {
   "cell_type": "code",
   "execution_count": 18,
   "metadata": {
    "pycharm": {
     "name": "#%%\n"
    }
   },
   "outputs": [
    {
     "data": {
      "text/html": [
       "<div>\n",
       "<style scoped>\n",
       "    .dataframe tbody tr th:only-of-type {\n",
       "        vertical-align: middle;\n",
       "    }\n",
       "\n",
       "    .dataframe tbody tr th {\n",
       "        vertical-align: top;\n",
       "    }\n",
       "\n",
       "    .dataframe thead th {\n",
       "        text-align: right;\n",
       "    }\n",
       "</style>\n",
       "<table border=\"1\" class=\"dataframe\">\n",
       "  <thead>\n",
       "    <tr style=\"text-align: right;\">\n",
       "      <th></th>\n",
       "      <th>rf_europe</th>\n",
       "    </tr>\n",
       "    <tr>\n",
       "      <th>date</th>\n",
       "      <th></th>\n",
       "    </tr>\n",
       "  </thead>\n",
       "  <tbody>\n",
       "    <tr>\n",
       "      <th>2020-11-01</th>\n",
       "      <td>211535.388</td>\n",
       "    </tr>\n",
       "    <tr>\n",
       "      <th>2020-11-02</th>\n",
       "      <td>252845.601</td>\n",
       "    </tr>\n",
       "    <tr>\n",
       "      <th>2020-11-03</th>\n",
       "      <td>221856.748</td>\n",
       "    </tr>\n",
       "    <tr>\n",
       "      <th>2020-11-04</th>\n",
       "      <td>250302.646</td>\n",
       "    </tr>\n",
       "    <tr>\n",
       "      <th>2020-11-05</th>\n",
       "      <td>265881.178</td>\n",
       "    </tr>\n",
       "    <tr>\n",
       "      <th>2020-11-06</th>\n",
       "      <td>291239.169</td>\n",
       "    </tr>\n",
       "    <tr>\n",
       "      <th>2020-11-07</th>\n",
       "      <td>280357.567</td>\n",
       "    </tr>\n",
       "  </tbody>\n",
       "</table>\n",
       "</div>"
      ],
      "text/plain": [
       "             rf_europe\n",
       "date                  \n",
       "2020-11-01  211535.388\n",
       "2020-11-02  252845.601\n",
       "2020-11-03  221856.748\n",
       "2020-11-04  250302.646\n",
       "2020-11-05  265881.178\n",
       "2020-11-06  291239.169\n",
       "2020-11-07  280357.567"
      ]
     },
     "execution_count": 18,
     "metadata": {},
     "output_type": "execute_result"
    }
   ],
   "source": [
    "results = pd.DataFrame(predictions, index=dates.iloc[-7:], columns=['rf_europe'])\n",
    "results"
   ]
  },
  {
   "cell_type": "code",
   "execution_count": 19,
   "metadata": {
    "pycharm": {
     "name": "#%%\n"
    }
   },
   "outputs": [],
   "source": [
    "results.to_pickle('rf_predictions/rf_europe.pkl')"
   ]
  },
  {
   "cell_type": "code",
   "execution_count": null,
   "metadata": {},
   "outputs": [],
   "source": []
  }
 ],
 "metadata": {
  "kernelspec": {
   "display_name": "Python 3",
   "language": "python",
   "name": "python3"
  },
  "language_info": {
   "codemirror_mode": {
    "name": "ipython",
    "version": 3
   },
   "file_extension": ".py",
   "mimetype": "text/x-python",
   "name": "python",
   "nbconvert_exporter": "python",
   "pygments_lexer": "ipython3",
   "version": "3.6.9"
  },
  "pycharm": {
   "stem_cell": {
    "cell_type": "raw",
    "metadata": {
     "collapsed": false
    },
    "source": []
   }
  }
 },
 "nbformat": 4,
 "nbformat_minor": 4
}
